{
 "cells": [
  {
   "cell_type": "code",
   "execution_count": 2,
   "id": "42403acb-9ba2-4312-bbee-b3bd94c982a5",
   "metadata": {},
   "outputs": [
    {
     "name": "stdout",
     "output_type": "stream",
     "text": [
      "Accuracy: 21.00%\n",
      "The predicted processor for the new task is: Processor 2\n"
     ]
    }
   ],
   "source": [
    "import pandas as pd\n",
    "from sklearn.model_selection import train_test_split\n",
    "from sklearn.ensemble import RandomForestClassifier\n",
    "from sklearn.metrics import accuracy_score\n",
    "from sklearn.preprocessing import LabelEncoder\n",
    "\n",
    "data = pd.read_csv(r\"C:\\Users\\sreev\\Downloads\\load_balancing_data.csv\")\n",
    "\n",
    "\n",
    "label_encoder = LabelEncoder()\n",
    "data['Task Type'] = label_encoder.fit_transform(data['Task Type'])  \n",
    "\n",
    "\n",
    "X = data[['Task Weight', 'Task Type', 'Processor Load', 'Task Execution Time']]  \n",
    "y = data['Processor ID']  \n",
    "\n",
    "\n",
    "X_train, X_test, y_train, y_test = train_test_split(X, y, test_size=0.2, random_state=42)\n",
    "\n",
    "\n",
    "rf_model = RandomForestClassifier(n_estimators=100, random_state=42)\n",
    "rf_model.fit(X_train, y_train)\n",
    "\n",
    "\n",
    "y_pred = rf_model.predict(X_test)\n",
    "accuracy = accuracy_score(y_test, y_pred)\n",
    "print(f\"Accuracy: {accuracy * 100:.2f}%\")\n",
    "\n",
    "\n",
    "new_task = pd.DataFrame({\n",
    "    'Task Weight': [6],\n",
    "    'Task Type': [label_encoder.transform(['CPU-intensive'])[0]], \n",
    "    'Processor Load': [15],\n",
    "    'Task Execution Time': [7]\n",
    "})\n",
    "\n",
    "predicted_processor = rf_model.predict(new_task)\n",
    "print(f\"The predicted processor for the new task is: Processor {predicted_processor[0]}\")\n"
   ]
  },
  {
   "cell_type": "code",
   "execution_count": 7,
   "id": "c47abe68-e773-4676-82d7-49ec2c15e420",
   "metadata": {},
   "outputs": [
    {
     "name": "stdout",
     "output_type": "stream",
     "text": [
      "Accuracy: 21.00%\n",
      "OOB Score: 0.2325\n",
      "The predicted processor for the new task is: Processor 2\n"
     ]
    }
   ],
   "source": [
    "import pandas as pd\n",
    "from sklearn.model_selection import train_test_split\n",
    "from sklearn.ensemble import RandomForestClassifier\n",
    "from sklearn.metrics import accuracy_score\n",
    "from sklearn.preprocessing import LabelEncoder\n",
    "\n",
    "data = pd.read_csv(r\"C:\\Users\\sreev\\Downloads\\load_balancing_data.csv\")\n",
    "\n",
    "label_encoder = LabelEncoder()\n",
    "data['Task Type'] = label_encoder.fit_transform(data['Task Type'])  \n",
    "\n",
    "X = data[['Task Weight', 'Task Type', 'Processor Load', 'Task Execution Time']]  \n",
    "y = data['Processor ID']  \n",
    "\n",
    "X_train, X_test, y_train, y_test = train_test_split(X, y, test_size=0.2, random_state=42)\n",
    "\n",
    "rf_model = RandomForestClassifier(n_estimators=100, oob_score=True, random_state=42)\n",
    "rf_model.fit(X_train, y_train)\n",
    "\n",
    "y_pred = rf_model.predict(X_test)\n",
    "accuracy = accuracy_score(y_test, y_pred)\n",
    "print(f\"Accuracy: {accuracy * 100:.2f}%\")\n",
    "\n",
    "print(f\"OOB Score: {rf_model.oob_score_}\")\n",
    "\n",
    "new_task = pd.DataFrame({\n",
    "    'Task Weight': [6],\n",
    "    'Task Type': [label_encoder.transform(['CPU-intensive'])[0]], \n",
    "    'Processor Load': [15],\n",
    "    'Task Execution Time': [7]\n",
    "})\n",
    "\n",
    "predicted_processor = rf_model.predict(new_task)\n",
    "print(f\"The predicted processor for the new task is: Processor {predicted_processor[0]}\")\n"
   ]
  },
  {
   "cell_type": "code",
   "execution_count": 4,
   "id": "49066dac-52de-4c6f-af15-3ab13ee28aab",
   "metadata": {},
   "outputs": [
    {
     "name": "stdout",
     "output_type": "stream",
     "text": [
      "Fitting 3 folds for each of 20 candidates, totalling 60 fits\n",
      "Best Parameters: {'subsample': 0.9, 'n_estimators': 200, 'min_child_weight': 5, 'max_depth': 5, 'learning_rate': 0.05, 'gamma': 0, 'colsample_bytree': 0.8}\n",
      "Accuracy: 22.50%\n",
      "The predicted processor for the new task is: Processor 2\n"
     ]
    }
   ],
   "source": [
    "import pandas as pd\n",
    "from sklearn.model_selection import train_test_split, RandomizedSearchCV\n",
    "from sklearn.preprocessing import LabelEncoder\n",
    "from sklearn.metrics import accuracy_score\n",
    "import xgboost as xgb\n",
    "import numpy as np\n",
    "\n",
    "\n",
    "data = pd.read_csv(r\"C:\\Users\\sreev\\Downloads\\load_balancing_data.csv\")\n",
    "\n",
    "label_encoder = LabelEncoder()\n",
    "data['Task Type'] = label_encoder.fit_transform(data['Task Type'])\n",
    "\n",
    "X = data[['Task Weight', 'Task Type', 'Processor Load', 'Task Execution Time']]\n",
    "y = data['Processor ID']\n",
    "\n",
    "X_train, X_test, y_train, y_test = train_test_split(X, y, test_size=0.2, random_state=42)\n",
    "\n",
    "xg_model = xgb.XGBClassifier(random_state=42)\n",
    "\n",
    "param_dist = {\n",
    "    'n_estimators': [100, 200, 300],\n",
    "    'learning_rate': [0.01, 0.05, 0.1, 0.15],\n",
    "    'max_depth': [3, 5, 7],\n",
    "    'min_child_weight': [1, 3, 5],\n",
    "    'subsample': [0.8, 0.9, 1.0],\n",
    "    'colsample_bytree': [0.8, 0.9, 1.0],\n",
    "    'gamma': [0, 0.1, 0.3, 0.5] \n",
    "}\n",
    "\n",
    "random_search = RandomizedSearchCV(estimator=xg_model, param_distributions=param_dist, n_iter=20, cv=3, n_jobs=-1, random_state=42, verbose=2)\n",
    "\n",
    "random_search.fit(X_train, y_train)\n",
    "\n",
    "print(\"Best Parameters:\", random_search.best_params_)\n",
    "\n",
    "xg_model = random_search.best_estimator_\n",
    "\n",
    "y_pred = xg_model.predict(X_test)\n",
    "\n",
    "accuracy = accuracy_score(y_test, y_pred)\n",
    "print(f\"Accuracy: {accuracy * 100:.2f}%\")\n",
    "\n",
    "new_task = pd.DataFrame({\n",
    "    'Task Weight': [6],\n",
    "    'Task Type': [label_encoder.transform(['CPU-intensive'])[0]], \n",
    "    'Processor Load': [15],\n",
    "    'Task Execution Time': [7]\n",
    "})\n",
    "\n",
    "predicted_processor = xg_model.predict(new_task)\n",
    "print(f\"The predicted processor for the new task is: Processor {predicted_processor[0]}\")\n"
   ]
  },
  {
   "cell_type": "code",
   "execution_count": null,
   "id": "3d419ba3-cb4f-473e-af7f-9d701872d62e",
   "metadata": {},
   "outputs": [],
   "source": []
  }
 ],
 "metadata": {
  "kernelspec": {
   "display_name": "Python 3 (ipykernel)",
   "language": "python",
   "name": "python3"
  },
  "language_info": {
   "codemirror_mode": {
    "name": "ipython",
    "version": 3
   },
   "file_extension": ".py",
   "mimetype": "text/x-python",
   "name": "python",
   "nbconvert_exporter": "python",
   "pygments_lexer": "ipython3",
   "version": "3.13.1"
  }
 },
 "nbformat": 4,
 "nbformat_minor": 5
}
