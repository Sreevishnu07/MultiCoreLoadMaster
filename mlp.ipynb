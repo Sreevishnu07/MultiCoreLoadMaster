import pandas as pd
from sklearn.model_selection import train_test_split
from sklearn.preprocessing import LabelEncoder, StandardScaler
from sklearn.neural_network import MLPClassifier
from sklearn.metrics import accuracy_score, confusion_matrix
from google.colab import files

uploaded = files.upload()

data = pd.read_csv(next(iter(uploaded)))

label_encoder = LabelEncoder()
data['Task Type'] = label_encoder.fit_transform(data['Task Type'])

y = data['Processor ID']
label_encoder_y = LabelEncoder()
y_encoded = label_encoder_y.fit_transform(y)

X = data[['Task Weight', 'Task Type', 'Processor Load', 'Task Execution Time']]
scaler = StandardScaler()
X_scaled = scaler.fit_transform(X)

random_state_value = 123  
X_train, X_test, y_train, y_test = train_test_split(X_scaled, y_encoded, test_size=0.2, random_state=random_state_value)

mlp_model = MLPClassifier(hidden_layer_sizes=(64, 32), max_iter=1000, random_state=random_state_value)
mlp_model.fit(X_train, y_train)

y_pred = mlp_model.predict(X_test)
accuracy = accuracy_score(y_test, y_pred)
print(f"Accuracy: {accuracy * 100:.2f}%")
print("Confusion Matrix:\n", confusion_matrix(y_test, y_pred))

new_task = pd.DataFrame({
    'Task Weight': [6],
    'Task Type': [label_encoder.transform(['CPU-intensive'])[0]], 
    'Processor Load': [15],
    'Task Execution Time': [7]
})
new_task_scaled = scaler.transform(new_task)
predicted_processor = mlp_model.predict(new_task_scaled)
predicted_processor_label = label_encoder_y.inverse_transform(predicted_processor)
print(f"The predicted processor for the new task is: Processor {predicted_processor_label[0]}")
